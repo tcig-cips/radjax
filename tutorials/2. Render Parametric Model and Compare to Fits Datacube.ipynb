{
 "cells": [
  {
   "cell_type": "code",
   "execution_count": 3,
   "id": "b096385d-a51f-4f63-9b46-9211688f4b97",
   "metadata": {},
   "outputs": [],
   "source": [
    "import radjax as rj\n",
    "from radjax import sensor, disk\n",
    "from radjax.models import broken_power_law as disk_model\n",
    "from radjax.core.alma_io import prepare_alma_cube\n",
    "\n",
    "import jax.numpy as jnp"
   ]
  },
  {
   "cell_type": "code",
   "execution_count": 6,
   "id": "b1a15a81-faf9-458c-b02b-d743839b9a13",
   "metadata": {},
   "outputs": [
    {
     "name": "stdout",
     "output_type": "stream",
     "text": [
      "Dataset name:              HD163296 - Flaherty CO(2-1)\n",
      "Distance (pc):              122.00\n",
      "Field of view (arcsec):     11.000\n",
      "Velocity range (m/s):       2000.0 →  10000.0\n",
      "VLSR (m/s):                5760.00\n",
      "Number of rays:                100\n",
      "Inclination (deg):           47.50\n",
      "Phi (deg):                    0.00\n",
      "Position angle (deg):       312.00\n",
      "Slab thickness z_width (au):   400.00\n"
     ]
    }
   ],
   "source": [
    "data_path = '../data/HD163296/Flaherty/HD163296_CO_highres_cen.cm.fits'\n",
    "params_path = '../data/HD163296/Flaherty/HD163296_CO_highres_cen.cm.params.yaml'\n",
    "\n",
    "obs_params = sensor.params_from_yaml(params_path)\n",
    "sensor.print_params(obs_params)"
   ]
  },
  {
   "cell_type": "code",
   "execution_count": 7,
   "id": "1902d919-2d75-4fc9-b20c-ed83bc033490",
   "metadata": {},
   "outputs": [],
   "source": [
    "# Load datacube and associated metadata from fits file \n",
    "# Build rays geometry from metadata and sky coordinates\n",
    "alma_cube = prepare_alma_cube(data_path, obs_params, to_jax=True)\n",
    "rays, obs_dir = sensor.rays_from_params(obs_params, alma_cube.x_sky, alma_cube.y_sky)"
   ]
  },
  {
   "cell_type": "code",
   "execution_count": 8,
   "id": "79f02f3f-7862-4da1-b731-55c4d66fb723",
   "metadata": {},
   "outputs": [
    {
     "name": "stdout",
     "output_type": "stream",
     "text": [
      "Disk parameters (parametric broken power law model):\n",
      "  Midplane T_norm (K):          17.80\n",
      "  Atmosphere T_norm (K):        87.00\n",
      "  q (outer exponent):          -0.270\n",
      "  q_in (inner exponent):       -0.570\n",
      "  r_break (AU):                 70.00\n",
      "  log(r_c [AU]):                 2.30\n",
      "  gamma (Σ slope):              1.000\n",
      "\n",
      "  Stellar mass (M_sun):         2.300\n",
      "  Gas mass (M_sun):             0.090\n",
      "\n",
      "  r_in (AU):                    11.00\n",
      "  r_scale (AU):                150.00\n",
      "  z_q0 (AU):                    70.00\n",
      "  delta (blend exp):            1.000\n",
      "\n",
      "  Turbulence parameter:         0.060\n",
      "\n",
      "  Resolution (z/r):               500\n",
      "  z range (AU):                  0.00 →   200.00\n",
      "  r range (AU):                 11.00 →   800.00\n"
     ]
    }
   ],
   "source": [
    "# Construct a parameteric disk model based on loaded parameters\n",
    "disk_params = disk_model.params_from_yaml(params_path)\n",
    "disk_model.print_params(disk_params)"
   ]
  },
  {
   "cell_type": "code",
   "execution_count": null,
   "id": "0ab3c83f-f006-4503-91d9-0fc995f089b6",
   "metadata": {},
   "outputs": [],
   "source": []
  }
 ],
 "metadata": {
  "kernelspec": {
   "display_name": "Python 3 (ipykernel)",
   "language": "python",
   "name": "python3"
  },
  "language_info": {
   "codemirror_mode": {
    "name": "ipython",
    "version": 3
   },
   "file_extension": ".py",
   "mimetype": "text/x-python",
   "name": "python",
   "nbconvert_exporter": "python",
   "pygments_lexer": "ipython3",
   "version": "3.12.11"
  }
 },
 "nbformat": 4,
 "nbformat_minor": 5
}
